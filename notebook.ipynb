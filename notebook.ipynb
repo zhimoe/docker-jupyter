{
 "cells": [
  {
   "cell_type": "code",
   "execution_count": null,
   "id": "2b45c24d-9cde-4c72-86b7-f9821f4eab4b",
   "metadata": {},
   "outputs": [],
   "source": [
    "print(\"hello notebook\")"
   ]
  }
 ],
 "metadata": {
  "kernelspec": {
   "display_name": "Python 3 (ipykernel)",
   "language": "python",
   "name": "python3"
  },
  "language_info": {
   "codemirror_mode": {
    "name": "ipython",
    "version": 3
   },
   "file_extension": ".py",
   "mimetype": "text/x-python",
   "name": "python",
   "nbconvert_exporter": "python",
   "pygments_lexer": "ipython3",
   "version": "3.11.5"
  }
 },
 "nbformat": 4,
 "nbformat_minor": 5
}
